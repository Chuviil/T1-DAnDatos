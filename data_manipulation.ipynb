{
 "cells": [
  {
   "metadata": {},
   "cell_type": "markdown",
   "source": "# Data Import",
   "id": "ae5bee07e68f0d4d"
  },
  {
   "metadata": {
    "ExecuteTime": {
     "end_time": "2024-10-13T06:20:30.650955Z",
     "start_time": "2024-10-13T06:20:30.528310Z"
    }
   },
   "cell_type": "code",
   "source": [
    "import pandas as pd\n",
    "billonarires_data = pd.read_csv(\"./data/Billionaires Statistics Dataset.csv\")"
   ],
   "id": "966c95a77b6e51b1",
   "outputs": [],
   "execution_count": 14
  },
  {
   "metadata": {
    "ExecuteTime": {
     "end_time": "2024-10-13T06:20:30.680515Z",
     "start_time": "2024-10-13T06:20:30.665996Z"
    }
   },
   "cell_type": "code",
   "source": "billonarires_data.head(5)",
   "id": "be15dc6e8aa8d3cf",
   "outputs": [
    {
     "data": {
      "text/plain": [
       "   rank  finalWorth               category                personName   age  \\\n",
       "0     1      211000       Fashion & Retail  Bernard Arnault & family  74.0   \n",
       "1     2      180000             Automotive                 Elon Musk  51.0   \n",
       "2     3      114000             Technology                Jeff Bezos  59.0   \n",
       "3     4      107000             Technology             Larry Ellison  78.0   \n",
       "4     5      106000  Finance & Investments            Warren Buffett  92.0   \n",
       "\n",
       "         country    city              source             industries  \\\n",
       "0         France   Paris                LVMH       Fashion & Retail   \n",
       "1  United States  Austin       Tesla, SpaceX             Automotive   \n",
       "2  United States  Medina              Amazon             Technology   \n",
       "3  United States   Lanai              Oracle             Technology   \n",
       "4  United States   Omaha  Berkshire Hathaway  Finance & Investments   \n",
       "\n",
       "  countryOfCitizenship  ... cpi_change_country           gdp_country  \\\n",
       "0               France  ...                1.1   $2,715,518,274,227    \n",
       "1        United States  ...                7.5  $21,427,700,000,000    \n",
       "2        United States  ...                7.5  $21,427,700,000,000    \n",
       "3        United States  ...                7.5  $21,427,700,000,000    \n",
       "4        United States  ...                7.5  $21,427,700,000,000    \n",
       "\n",
       "  gross_tertiary_education_enrollment  \\\n",
       "0                                65.6   \n",
       "1                                88.2   \n",
       "2                                88.2   \n",
       "3                                88.2   \n",
       "4                                88.2   \n",
       "\n",
       "  gross_primary_education_enrollment_country life_expectancy_country  \\\n",
       "0                                      102.5                    82.5   \n",
       "1                                      101.8                    78.5   \n",
       "2                                      101.8                    78.5   \n",
       "3                                      101.8                    78.5   \n",
       "4                                      101.8                    78.5   \n",
       "\n",
       "  tax_revenue_country_country total_tax_rate_country population_country  \\\n",
       "0                        24.2                   60.7         67059887.0   \n",
       "1                         9.6                   36.6        328239523.0   \n",
       "2                         9.6                   36.6        328239523.0   \n",
       "3                         9.6                   36.6        328239523.0   \n",
       "4                         9.6                   36.6        328239523.0   \n",
       "\n",
       "  latitude_country longitude_country  \n",
       "0        46.227638          2.213749  \n",
       "1        37.090240        -95.712891  \n",
       "2        37.090240        -95.712891  \n",
       "3        37.090240        -95.712891  \n",
       "4        37.090240        -95.712891  \n",
       "\n",
       "[5 rows x 35 columns]"
      ],
      "text/html": [
       "<div>\n",
       "<style scoped>\n",
       "    .dataframe tbody tr th:only-of-type {\n",
       "        vertical-align: middle;\n",
       "    }\n",
       "\n",
       "    .dataframe tbody tr th {\n",
       "        vertical-align: top;\n",
       "    }\n",
       "\n",
       "    .dataframe thead th {\n",
       "        text-align: right;\n",
       "    }\n",
       "</style>\n",
       "<table border=\"1\" class=\"dataframe\">\n",
       "  <thead>\n",
       "    <tr style=\"text-align: right;\">\n",
       "      <th></th>\n",
       "      <th>rank</th>\n",
       "      <th>finalWorth</th>\n",
       "      <th>category</th>\n",
       "      <th>personName</th>\n",
       "      <th>age</th>\n",
       "      <th>country</th>\n",
       "      <th>city</th>\n",
       "      <th>source</th>\n",
       "      <th>industries</th>\n",
       "      <th>countryOfCitizenship</th>\n",
       "      <th>...</th>\n",
       "      <th>cpi_change_country</th>\n",
       "      <th>gdp_country</th>\n",
       "      <th>gross_tertiary_education_enrollment</th>\n",
       "      <th>gross_primary_education_enrollment_country</th>\n",
       "      <th>life_expectancy_country</th>\n",
       "      <th>tax_revenue_country_country</th>\n",
       "      <th>total_tax_rate_country</th>\n",
       "      <th>population_country</th>\n",
       "      <th>latitude_country</th>\n",
       "      <th>longitude_country</th>\n",
       "    </tr>\n",
       "  </thead>\n",
       "  <tbody>\n",
       "    <tr>\n",
       "      <th>0</th>\n",
       "      <td>1</td>\n",
       "      <td>211000</td>\n",
       "      <td>Fashion &amp; Retail</td>\n",
       "      <td>Bernard Arnault &amp; family</td>\n",
       "      <td>74.0</td>\n",
       "      <td>France</td>\n",
       "      <td>Paris</td>\n",
       "      <td>LVMH</td>\n",
       "      <td>Fashion &amp; Retail</td>\n",
       "      <td>France</td>\n",
       "      <td>...</td>\n",
       "      <td>1.1</td>\n",
       "      <td>$2,715,518,274,227</td>\n",
       "      <td>65.6</td>\n",
       "      <td>102.5</td>\n",
       "      <td>82.5</td>\n",
       "      <td>24.2</td>\n",
       "      <td>60.7</td>\n",
       "      <td>67059887.0</td>\n",
       "      <td>46.227638</td>\n",
       "      <td>2.213749</td>\n",
       "    </tr>\n",
       "    <tr>\n",
       "      <th>1</th>\n",
       "      <td>2</td>\n",
       "      <td>180000</td>\n",
       "      <td>Automotive</td>\n",
       "      <td>Elon Musk</td>\n",
       "      <td>51.0</td>\n",
       "      <td>United States</td>\n",
       "      <td>Austin</td>\n",
       "      <td>Tesla, SpaceX</td>\n",
       "      <td>Automotive</td>\n",
       "      <td>United States</td>\n",
       "      <td>...</td>\n",
       "      <td>7.5</td>\n",
       "      <td>$21,427,700,000,000</td>\n",
       "      <td>88.2</td>\n",
       "      <td>101.8</td>\n",
       "      <td>78.5</td>\n",
       "      <td>9.6</td>\n",
       "      <td>36.6</td>\n",
       "      <td>328239523.0</td>\n",
       "      <td>37.090240</td>\n",
       "      <td>-95.712891</td>\n",
       "    </tr>\n",
       "    <tr>\n",
       "      <th>2</th>\n",
       "      <td>3</td>\n",
       "      <td>114000</td>\n",
       "      <td>Technology</td>\n",
       "      <td>Jeff Bezos</td>\n",
       "      <td>59.0</td>\n",
       "      <td>United States</td>\n",
       "      <td>Medina</td>\n",
       "      <td>Amazon</td>\n",
       "      <td>Technology</td>\n",
       "      <td>United States</td>\n",
       "      <td>...</td>\n",
       "      <td>7.5</td>\n",
       "      <td>$21,427,700,000,000</td>\n",
       "      <td>88.2</td>\n",
       "      <td>101.8</td>\n",
       "      <td>78.5</td>\n",
       "      <td>9.6</td>\n",
       "      <td>36.6</td>\n",
       "      <td>328239523.0</td>\n",
       "      <td>37.090240</td>\n",
       "      <td>-95.712891</td>\n",
       "    </tr>\n",
       "    <tr>\n",
       "      <th>3</th>\n",
       "      <td>4</td>\n",
       "      <td>107000</td>\n",
       "      <td>Technology</td>\n",
       "      <td>Larry Ellison</td>\n",
       "      <td>78.0</td>\n",
       "      <td>United States</td>\n",
       "      <td>Lanai</td>\n",
       "      <td>Oracle</td>\n",
       "      <td>Technology</td>\n",
       "      <td>United States</td>\n",
       "      <td>...</td>\n",
       "      <td>7.5</td>\n",
       "      <td>$21,427,700,000,000</td>\n",
       "      <td>88.2</td>\n",
       "      <td>101.8</td>\n",
       "      <td>78.5</td>\n",
       "      <td>9.6</td>\n",
       "      <td>36.6</td>\n",
       "      <td>328239523.0</td>\n",
       "      <td>37.090240</td>\n",
       "      <td>-95.712891</td>\n",
       "    </tr>\n",
       "    <tr>\n",
       "      <th>4</th>\n",
       "      <td>5</td>\n",
       "      <td>106000</td>\n",
       "      <td>Finance &amp; Investments</td>\n",
       "      <td>Warren Buffett</td>\n",
       "      <td>92.0</td>\n",
       "      <td>United States</td>\n",
       "      <td>Omaha</td>\n",
       "      <td>Berkshire Hathaway</td>\n",
       "      <td>Finance &amp; Investments</td>\n",
       "      <td>United States</td>\n",
       "      <td>...</td>\n",
       "      <td>7.5</td>\n",
       "      <td>$21,427,700,000,000</td>\n",
       "      <td>88.2</td>\n",
       "      <td>101.8</td>\n",
       "      <td>78.5</td>\n",
       "      <td>9.6</td>\n",
       "      <td>36.6</td>\n",
       "      <td>328239523.0</td>\n",
       "      <td>37.090240</td>\n",
       "      <td>-95.712891</td>\n",
       "    </tr>\n",
       "  </tbody>\n",
       "</table>\n",
       "<p>5 rows × 35 columns</p>\n",
       "</div>"
      ]
     },
     "execution_count": 15,
     "metadata": {},
     "output_type": "execute_result"
    }
   ],
   "execution_count": 15
  },
  {
   "metadata": {
    "ExecuteTime": {
     "end_time": "2024-10-13T06:20:30.736649Z",
     "start_time": "2024-10-13T06:20:30.732423Z"
    }
   },
   "cell_type": "code",
   "source": "billonarires_data.columns",
   "id": "91fc1e872876ea43",
   "outputs": [
    {
     "data": {
      "text/plain": [
       "Index(['rank', 'finalWorth', 'category', 'personName', 'age', 'country',\n",
       "       'city', 'source', 'industries', 'countryOfCitizenship', 'organization',\n",
       "       'selfMade', 'status', 'gender', 'birthDate', 'lastName', 'firstName',\n",
       "       'title', 'date', 'state', 'residenceStateRegion', 'birthYear',\n",
       "       'birthMonth', 'birthDay', 'cpi_country', 'cpi_change_country',\n",
       "       'gdp_country', 'gross_tertiary_education_enrollment',\n",
       "       'gross_primary_education_enrollment_country', 'life_expectancy_country',\n",
       "       'tax_revenue_country_country', 'total_tax_rate_country',\n",
       "       'population_country', 'latitude_country', 'longitude_country'],\n",
       "      dtype='object')"
      ]
     },
     "execution_count": 16,
     "metadata": {},
     "output_type": "execute_result"
    }
   ],
   "execution_count": 16
  },
  {
   "metadata": {},
   "cell_type": "markdown",
   "source": "# Data Transformation",
   "id": "a18b11c97fbf79fd"
  },
  {
   "metadata": {},
   "cell_type": "markdown",
   "source": "## Date Dimension",
   "id": "1880e0426edcebdc"
  },
  {
   "metadata": {
    "ExecuteTime": {
     "end_time": "2024-10-13T06:20:30.805568Z",
     "start_time": "2024-10-13T06:20:30.794292Z"
    }
   },
   "cell_type": "code",
   "source": [
    "billonarires_data['date'] = pd.to_datetime(billonarires_data['date'])\n",
    "dim_fecha = pd.DataFrame()\n",
    "dim_fecha['year'] = billonarires_data['date'].dt.year\n",
    "dim_fecha['month'] = billonarires_data['date'].dt.month\n",
    "dim_fecha['day'] = billonarires_data['date'].dt.day\n",
    "dim_fecha.head(1)"
   ],
   "id": "2a27c42e88ba55b8",
   "outputs": [
    {
     "data": {
      "text/plain": [
       "   year  month  day\n",
       "0  2023      4    4"
      ],
      "text/html": [
       "<div>\n",
       "<style scoped>\n",
       "    .dataframe tbody tr th:only-of-type {\n",
       "        vertical-align: middle;\n",
       "    }\n",
       "\n",
       "    .dataframe tbody tr th {\n",
       "        vertical-align: top;\n",
       "    }\n",
       "\n",
       "    .dataframe thead th {\n",
       "        text-align: right;\n",
       "    }\n",
       "</style>\n",
       "<table border=\"1\" class=\"dataframe\">\n",
       "  <thead>\n",
       "    <tr style=\"text-align: right;\">\n",
       "      <th></th>\n",
       "      <th>year</th>\n",
       "      <th>month</th>\n",
       "      <th>day</th>\n",
       "    </tr>\n",
       "  </thead>\n",
       "  <tbody>\n",
       "    <tr>\n",
       "      <th>0</th>\n",
       "      <td>2023</td>\n",
       "      <td>4</td>\n",
       "      <td>4</td>\n",
       "    </tr>\n",
       "  </tbody>\n",
       "</table>\n",
       "</div>"
      ]
     },
     "execution_count": 17,
     "metadata": {},
     "output_type": "execute_result"
    }
   ],
   "execution_count": 17
  },
  {
   "metadata": {},
   "cell_type": "markdown",
   "source": "## Person Dimension",
   "id": "78d5539ac20ddc4"
  },
  {
   "metadata": {
    "ExecuteTime": {
     "end_time": "2024-10-13T06:20:30.905186Z",
     "start_time": "2024-10-13T06:20:30.899236Z"
    }
   },
   "cell_type": "code",
   "source": [
    "dim_persona = billonarires_data[['firstName', 'lastName', 'age', 'gender', 'title']]\n",
    "dim_persona.head(1)"
   ],
   "id": "39a0dbbd75f83e87",
   "outputs": [
    {
     "data": {
      "text/plain": [
       "  firstName lastName   age gender             title\n",
       "0   Bernard  Arnault  74.0      M  Chairman and CEO"
      ],
      "text/html": [
       "<div>\n",
       "<style scoped>\n",
       "    .dataframe tbody tr th:only-of-type {\n",
       "        vertical-align: middle;\n",
       "    }\n",
       "\n",
       "    .dataframe tbody tr th {\n",
       "        vertical-align: top;\n",
       "    }\n",
       "\n",
       "    .dataframe thead th {\n",
       "        text-align: right;\n",
       "    }\n",
       "</style>\n",
       "<table border=\"1\" class=\"dataframe\">\n",
       "  <thead>\n",
       "    <tr style=\"text-align: right;\">\n",
       "      <th></th>\n",
       "      <th>firstName</th>\n",
       "      <th>lastName</th>\n",
       "      <th>age</th>\n",
       "      <th>gender</th>\n",
       "      <th>title</th>\n",
       "    </tr>\n",
       "  </thead>\n",
       "  <tbody>\n",
       "    <tr>\n",
       "      <th>0</th>\n",
       "      <td>Bernard</td>\n",
       "      <td>Arnault</td>\n",
       "      <td>74.0</td>\n",
       "      <td>M</td>\n",
       "      <td>Chairman and CEO</td>\n",
       "    </tr>\n",
       "  </tbody>\n",
       "</table>\n",
       "</div>"
      ]
     },
     "execution_count": 18,
     "metadata": {},
     "output_type": "execute_result"
    }
   ],
   "execution_count": 18
  },
  {
   "metadata": {},
   "cell_type": "markdown",
   "source": "## Location Dimension",
   "id": "94fd85813f1b01e7"
  },
  {
   "metadata": {
    "ExecuteTime": {
     "end_time": "2024-10-13T06:23:14.021120Z",
     "start_time": "2024-10-13T06:23:14.014544Z"
    }
   },
   "cell_type": "code",
   "source": [
    "dim_ubicacion = billonarires_data[['country', 'city']]\n",
    "dim_ubicacion.head(1)"
   ],
   "id": "dcf3cfd038285cfb",
   "outputs": [
    {
     "data": {
      "text/plain": [
       "  country   city\n",
       "0  France  Paris"
      ],
      "text/html": [
       "<div>\n",
       "<style scoped>\n",
       "    .dataframe tbody tr th:only-of-type {\n",
       "        vertical-align: middle;\n",
       "    }\n",
       "\n",
       "    .dataframe tbody tr th {\n",
       "        vertical-align: top;\n",
       "    }\n",
       "\n",
       "    .dataframe thead th {\n",
       "        text-align: right;\n",
       "    }\n",
       "</style>\n",
       "<table border=\"1\" class=\"dataframe\">\n",
       "  <thead>\n",
       "    <tr style=\"text-align: right;\">\n",
       "      <th></th>\n",
       "      <th>country</th>\n",
       "      <th>city</th>\n",
       "    </tr>\n",
       "  </thead>\n",
       "  <tbody>\n",
       "    <tr>\n",
       "      <th>0</th>\n",
       "      <td>France</td>\n",
       "      <td>Paris</td>\n",
       "    </tr>\n",
       "  </tbody>\n",
       "</table>\n",
       "</div>"
      ]
     },
     "execution_count": 28,
     "metadata": {},
     "output_type": "execute_result"
    }
   ],
   "execution_count": 28
  },
  {
   "metadata": {},
   "cell_type": "markdown",
   "source": "## Organization Dimension",
   "id": "d578921d516a05ed"
  },
  {
   "metadata": {
    "ExecuteTime": {
     "end_time": "2024-10-13T06:20:31.214103Z",
     "start_time": "2024-10-13T06:20:31.205593Z"
    }
   },
   "cell_type": "code",
   "source": [
    "dim_organizacion = pd.DataFrame()\n",
    "dim_organizacion['name'] = billonarires_data['source']\n",
    "dim_organizacion['category'] = billonarires_data['industries']\n",
    "dim_organizacion.head(1)"
   ],
   "id": "2b6002b554dc7b6f",
   "outputs": [
    {
     "data": {
      "text/plain": [
       "   name          category\n",
       "0  LVMH  Fashion & Retail"
      ],
      "text/html": [
       "<div>\n",
       "<style scoped>\n",
       "    .dataframe tbody tr th:only-of-type {\n",
       "        vertical-align: middle;\n",
       "    }\n",
       "\n",
       "    .dataframe tbody tr th {\n",
       "        vertical-align: top;\n",
       "    }\n",
       "\n",
       "    .dataframe thead th {\n",
       "        text-align: right;\n",
       "    }\n",
       "</style>\n",
       "<table border=\"1\" class=\"dataframe\">\n",
       "  <thead>\n",
       "    <tr style=\"text-align: right;\">\n",
       "      <th></th>\n",
       "      <th>name</th>\n",
       "      <th>category</th>\n",
       "    </tr>\n",
       "  </thead>\n",
       "  <tbody>\n",
       "    <tr>\n",
       "      <th>0</th>\n",
       "      <td>LVMH</td>\n",
       "      <td>Fashion &amp; Retail</td>\n",
       "    </tr>\n",
       "  </tbody>\n",
       "</table>\n",
       "</div>"
      ]
     },
     "execution_count": 20,
     "metadata": {},
     "output_type": "execute_result"
    }
   ],
   "execution_count": 20
  },
  {
   "metadata": {},
   "cell_type": "markdown",
   "source": "## Fact Table",
   "id": "14f7aaa1a84c952f"
  },
  {
   "metadata": {
    "ExecuteTime": {
     "end_time": "2024-10-13T06:20:31.306332Z",
     "start_time": "2024-10-13T06:20:31.300756Z"
    }
   },
   "cell_type": "code",
   "source": [
    "fact_table = billonarires_data[['finalWorth']]\n",
    "fact_table.head(1)"
   ],
   "id": "9e171879a97eed64",
   "outputs": [
    {
     "data": {
      "text/plain": [
       "   finalWorth\n",
       "0      211000"
      ],
      "text/html": [
       "<div>\n",
       "<style scoped>\n",
       "    .dataframe tbody tr th:only-of-type {\n",
       "        vertical-align: middle;\n",
       "    }\n",
       "\n",
       "    .dataframe tbody tr th {\n",
       "        vertical-align: top;\n",
       "    }\n",
       "\n",
       "    .dataframe thead th {\n",
       "        text-align: right;\n",
       "    }\n",
       "</style>\n",
       "<table border=\"1\" class=\"dataframe\">\n",
       "  <thead>\n",
       "    <tr style=\"text-align: right;\">\n",
       "      <th></th>\n",
       "      <th>finalWorth</th>\n",
       "    </tr>\n",
       "  </thead>\n",
       "  <tbody>\n",
       "    <tr>\n",
       "      <th>0</th>\n",
       "      <td>211000</td>\n",
       "    </tr>\n",
       "  </tbody>\n",
       "</table>\n",
       "</div>"
      ]
     },
     "execution_count": 21,
     "metadata": {},
     "output_type": "execute_result"
    }
   ],
   "execution_count": 21
  },
  {
   "metadata": {},
   "cell_type": "markdown",
   "source": "# Database Connection",
   "id": "655cf10b5fd7b6ae"
  },
  {
   "metadata": {
    "ExecuteTime": {
     "end_time": "2024-10-13T06:20:31.457152Z",
     "start_time": "2024-10-13T06:20:31.394816Z"
    }
   },
   "cell_type": "code",
   "source": [
    "import pyodbc\n",
    "from dotenv import load_dotenv\n",
    "import os\n",
    "load_dotenv()\n",
    "\n",
    "SERVER = os.getenv('MS_SQL_SERVER_ADDRESS')\n",
    "DATABASE = os.getenv('MS_SQL_DATABASE')\n",
    "USERNAME = os.getenv('MS_SQL_USERNAME')\n",
    "PASSWORD = os.getenv('MS_SQL_PASSWORD')"
   ],
   "id": "3d745abffac9f15e",
   "outputs": [],
   "execution_count": 22
  },
  {
   "metadata": {
    "ExecuteTime": {
     "end_time": "2024-10-13T06:20:31.486810Z",
     "start_time": "2024-10-13T06:20:31.482589Z"
    }
   },
   "cell_type": "code",
   "source": "connectionString = f'DRIVER={{ODBC Driver 17 for SQL Server}};SERVER={SERVER};DATABASE={DATABASE};UID={USERNAME};PWD={PASSWORD}'",
   "id": "52d44ef79c6938c3",
   "outputs": [],
   "execution_count": 23
  },
  {
   "metadata": {
    "ExecuteTime": {
     "end_time": "2024-10-13T06:20:33.121842Z",
     "start_time": "2024-10-13T06:20:31.517872Z"
    }
   },
   "cell_type": "code",
   "source": [
    "conn = pyodbc.connect(connectionString)\n",
    "cursor = conn.cursor()"
   ],
   "id": "8b682a52461a308b",
   "outputs": [],
   "execution_count": 24
  },
  {
   "metadata": {},
   "cell_type": "markdown",
   "source": "# Tables Creation",
   "id": "af85290f8c5cb553"
  },
  {
   "metadata": {},
   "cell_type": "markdown",
   "source": "## Date Dimension",
   "id": "a1dd1ae09218b593"
  },
  {
   "metadata": {
    "ExecuteTime": {
     "end_time": "2024-10-13T06:23:50.553194Z",
     "start_time": "2024-10-13T06:23:50.547955Z"
    }
   },
   "cell_type": "code",
   "source": "dim_fecha.columns",
   "id": "4ff2b144bf48cfa1",
   "outputs": [
    {
     "data": {
      "text/plain": [
       "Index(['year', 'month', 'day'], dtype='object')"
      ]
     },
     "execution_count": 29,
     "metadata": {},
     "output_type": "execute_result"
    }
   ],
   "execution_count": 29
  },
  {
   "metadata": {
    "ExecuteTime": {
     "end_time": "2024-10-13T06:20:35.756388Z",
     "start_time": "2024-10-13T06:20:35.554841Z"
    }
   },
   "cell_type": "code",
   "source": [
    "cursor.execute(\"\"\"\n",
    "CREATE TABLE Dim_Date (\n",
    "    dateId INT PRIMARY KEY,\n",
    "    year INT,\n",
    "    month INT,\n",
    "    day INT\n",
    ");\n",
    "\"\"\")\n",
    "cursor.commit()"
   ],
   "id": "284a4acc09c00a7b",
   "outputs": [],
   "execution_count": 26
  },
  {
   "metadata": {},
   "cell_type": "markdown",
   "source": "## Location Dimension",
   "id": "73a3d34f7ecd3d6"
  },
  {
   "metadata": {
    "ExecuteTime": {
     "end_time": "2024-10-13T06:23:54.082956Z",
     "start_time": "2024-10-13T06:23:54.078442Z"
    }
   },
   "cell_type": "code",
   "source": "dim_ubicacion.columns",
   "id": "752cebf5e4c6772b",
   "outputs": [
    {
     "data": {
      "text/plain": [
       "Index(['country', 'city'], dtype='object')"
      ]
     },
     "execution_count": 30,
     "metadata": {},
     "output_type": "execute_result"
    }
   ],
   "execution_count": 30
  },
  {
   "metadata": {
    "ExecuteTime": {
     "end_time": "2024-10-13T06:25:27.190543Z",
     "start_time": "2024-10-13T06:25:26.978604Z"
    }
   },
   "cell_type": "code",
   "source": [
    "cursor.execute(\"\"\"\n",
    "CREATE TABLE Dim_Location (\n",
    "    locationId INT IDENTITY(1,1) PRIMARY KEY,\n",
    "    country NVARCHAR(100) NOT NULL,\n",
    "    city NVARCHAR(100) NOT NULL,\n",
    ");\n",
    "\"\"\")\n",
    "cursor.commit()"
   ],
   "id": "1ec651bfeb2e4517",
   "outputs": [],
   "execution_count": 31
  },
  {
   "metadata": {},
   "cell_type": "markdown",
   "source": "## Person Dimension",
   "id": "e6260276a253b2e6"
  },
  {
   "metadata": {
    "ExecuteTime": {
     "end_time": "2024-10-13T06:25:36.818648Z",
     "start_time": "2024-10-13T06:25:36.814983Z"
    }
   },
   "cell_type": "code",
   "source": "dim_persona.columns",
   "id": "d061d8d8b691829d",
   "outputs": [
    {
     "data": {
      "text/plain": [
       "Index(['firstName', 'lastName', 'age', 'gender', 'title'], dtype='object')"
      ]
     },
     "execution_count": 32,
     "metadata": {},
     "output_type": "execute_result"
    }
   ],
   "execution_count": 32
  },
  {
   "metadata": {
    "ExecuteTime": {
     "end_time": "2024-10-13T06:26:40.179964Z",
     "start_time": "2024-10-13T06:26:39.981221Z"
    }
   },
   "cell_type": "code",
   "source": [
    "cursor.execute(\"\"\"\n",
    "CREATE TABLE Dim_Person (\n",
    "    personId INT IDENTITY(1,1) PRIMARY KEY,\n",
    "    firstName NVARCHAR(100),\n",
    "    lastName NVARCHAR(100),\n",
    "    age INT,\n",
    "    gender CHAR(1),\n",
    "    title NVARCHAR(255),\n",
    ");\n",
    "\"\"\")\n",
    "cursor.commit()"
   ],
   "id": "81492857a4d86d82",
   "outputs": [],
   "execution_count": 33
  },
  {
   "metadata": {},
   "cell_type": "markdown",
   "source": "## Organization Dimension",
   "id": "e450380372b7d5b4"
  },
  {
   "metadata": {
    "ExecuteTime": {
     "end_time": "2024-10-13T06:26:43.039003Z",
     "start_time": "2024-10-13T06:26:43.034191Z"
    }
   },
   "cell_type": "code",
   "source": "dim_organizacion.columns",
   "id": "95bcf8d39c2c489c",
   "outputs": [
    {
     "data": {
      "text/plain": [
       "Index(['name', 'category'], dtype='object')"
      ]
     },
     "execution_count": 34,
     "metadata": {},
     "output_type": "execute_result"
    }
   ],
   "execution_count": 34
  },
  {
   "metadata": {
    "ExecuteTime": {
     "end_time": "2024-10-13T06:29:13.573222Z",
     "start_time": "2024-10-13T06:29:13.370299Z"
    }
   },
   "cell_type": "code",
   "source": [
    "cursor.execute(\"\"\"\n",
    "CREATE TABLE Dim_Organization (\n",
    "    organizationId INT IDENTITY(1,1) PRIMARY KEY,\n",
    "    name NVARCHAR(255),\n",
    "    category NVARCHAR(255)\n",
    ");\n",
    "\"\"\")\n",
    "cursor.commit()"
   ],
   "id": "1355d6f9bd31d176",
   "outputs": [],
   "execution_count": 36
  },
  {
   "metadata": {},
   "cell_type": "markdown",
   "source": "## Fact Table",
   "id": "e570145be13bcaa6"
  },
  {
   "metadata": {
    "ExecuteTime": {
     "end_time": "2024-10-13T06:33:08.924984Z",
     "start_time": "2024-10-13T06:33:08.722078Z"
    }
   },
   "cell_type": "code",
   "source": [
    "cursor.execute(\"\"\"\n",
    "CREATE TABLE Worth_Fact (\n",
    "    finalWorth DECIMAL(18,2) NOT NULL,\n",
    "    \n",
    "    -- Claves Foráneas\n",
    "    dateId INT,\n",
    "    personId INT,\n",
    "    locationId INT,\n",
    "    organizationId INT,\n",
    "    \n",
    "    -- Definición de claves foráneas\n",
    "    CONSTRAINT FK_Fact_Date FOREIGN KEY (dateId) REFERENCES Dim_Date(dateId),\n",
    "    CONSTRAINT FK_Fact_Person FOREIGN KEY (personId) REFERENCES Dim_Person(personId),\n",
    "    CONSTRAINT FK_Fact_Location FOREIGN KEY (locationId) REFERENCES Dim_Location(locationId),\n",
    "    CONSTRAINT FK_Fact_Organization FOREIGN KEY (organizationId) REFERENCES Dim_Organization(organizationId)\n",
    ");\n",
    "\"\"\")\n",
    "cursor.commit()"
   ],
   "id": "578c3a152b9274b1",
   "outputs": [],
   "execution_count": 39
  },
  {
   "metadata": {},
   "cell_type": "markdown",
   "source": [
    "## Diagram\n",
    "![Diagrama de la BDD](imgs/diag-worth_fact.png)"
   ],
   "id": "8c91943d36100ea8"
  }
 ],
 "metadata": {
  "kernelspec": {
   "display_name": "Python 3",
   "language": "python",
   "name": "python3"
  },
  "language_info": {
   "codemirror_mode": {
    "name": "ipython",
    "version": 2
   },
   "file_extension": ".py",
   "mimetype": "text/x-python",
   "name": "python",
   "nbconvert_exporter": "python",
   "pygments_lexer": "ipython2",
   "version": "2.7.6"
  }
 },
 "nbformat": 4,
 "nbformat_minor": 5
}
